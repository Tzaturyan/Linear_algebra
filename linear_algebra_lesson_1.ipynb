{
 "cells": [
  {
   "cell_type": "markdown",
   "id": "c70e2276",
   "metadata": {},
   "source": [
    "## Линейное пространство. Основные понятия."
   ]
  },
  {
   "cell_type": "markdown",
   "id": "07e69aa0",
   "metadata": {},
   "source": [
    "### Исследуйте на линейную зависимость $$ f_{1}(x) = e^{x},~f_{2}(x)=1,~f_{3}(x)=x+1,~f_{4}(x)=x-e^{x} $$"
   ]
  },
  {
   "cell_type": "markdown",
   "id": "e98d4436",
   "metadata": {},
   "source": [
    "$$ Заметим,~ что~ f_{4}(x) = x+1-1-e^{x} = f_{3}(x) - f_{2}(x) - f_{1}(x)~следовательно~ вектор~ f_{4}(x)~ является~ линейной~ комбинацией~ векторов~ f_{3}(x),~ f_{2}(x)~ и~ f_{1}(x),~ из~ чего~ можно~ сделать~ вывод~ что~ вектора~ линейно~ зависимы. $$"
   ]
  },
  {
   "cell_type": "markdown",
   "id": "6126cc0c",
   "metadata": {},
   "source": [
    "### Исследуйте на линейную зависимость $$ f_{1}(x) = 2,~f_{2}(x)=x,~f_{3}(x)=x^{2},~f_{4}(x)=(x+1)^{2} $$"
   ]
  },
  {
   "cell_type": "markdown",
   "id": "cca28220",
   "metadata": {},
   "source": [
    "$$ Заметим,~ что~f_{4}(x) = x^{2}+2x+1 = f_{3}(x) + 2f_{2}(x) + 0.5f_{1}(x) = f_{3}(x) + 2f_{2}(x) + 0.5f_{1}(x)~ следовательно~ вектор~ f_{4}(x)~ является~ линейной~ комбинацией~ векторов~ f_{3}(x),~ f_{2}(x)~ и~ f_{1}(x),~ из~ чего~ можно~ сделать~ вывод~ что~ вектора~ линейно~ зависимы. $$"
   ]
  },
  {
   "cell_type": "markdown",
   "id": "6d731221",
   "metadata": {},
   "source": [
    "### Найдите координаты вектора $$ x=(2,3,5)\\in R^{3} в~ базисе~ b_{1} = (0,0,10),~ b_{2} = (2,0,0),~ b_{3} = (0,1,0) $$"
   ]
  },
  {
   "cell_type": "markdown",
   "id": "7bbd471f",
   "metadata": {},
   "source": [
    "$$ x = (2,3,5) = (0,0,0.5) + (1,0,0) + (0,3,0) = 0.5 * (0,0,10) + 1 * (2,0,0) + 3 * (0,1,0) = 0.5e_{1} + 1e_{2} + 3e_{3} $$"
   ]
  },
  {
   "cell_type": "markdown",
   "id": "8ba43e12",
   "metadata": {},
   "source": [
    "### Найдите координаты вектора $$ 3x^{2}-2x+2 \\in R^{3}[x]~a)~ в~ базисе~ 1,x,x^{2};~ б)~ в~ базисе~ x^{2},x-1,1 $$"
   ]
  },
  {
   "cell_type": "markdown",
   "id": "1e5cc8b4",
   "metadata": {},
   "source": [
    "$$ a)~ базис~ равен~ a_{1}=(0,0,1) = i,~a_{2}=(0,1,0) = j,~a_{3}=(1,0,0) = k $$"
   ]
  },
  {
   "cell_type": "markdown",
   "id": "247370c9",
   "metadata": {},
   "source": [
    "$$ x = (3,-2,2) = (0,0,2) + (0,-2,0) + (3,0,0) = 2*(0,0,1) + -2*(0,1,0) + 3*(1,0,0) = 2e_{1} + -2e_{2} + 3e_{3} $$"
   ]
  },
  {
   "cell_type": "markdown",
   "id": "f969039f",
   "metadata": {},
   "source": [
    "$$ б)~базис~равен~(1,0,0) = i,~(0,1,-1) = j-k,~(0,0,1) = k $$"
   ]
  },
  {
   "cell_type": "markdown",
   "id": "941c9dc2",
   "metadata": {},
   "source": [
    "$$ a_{4}=xa_{1} + ya_{2} + za_{3} $$"
   ]
  },
  {
   "cell_type": "markdown",
   "id": "b15047b7",
   "metadata": {},
   "source": [
    "$$ 3i - 2j + 2k = ix +jy - ky +kz = 3e_{1} -2e_{2} + 0e_{3} $$"
   ]
  },
  {
   "cell_type": "markdown",
   "id": "a5390c86",
   "metadata": {},
   "source": [
    "### Установите, считается ли линейным подпространством:"
   ]
  },
  {
   "cell_type": "markdown",
   "id": "71a050f2",
   "metadata": {},
   "source": [
    "$$ а)~ совокупность~ всех~ векторов~ трёхмерного~ пространства,~ у~ которых~ по~ крайней~ мере~ одна~ из~ первых~ двух~ координат~ равна~ нулю; $$"
   ]
  },
  {
   "cell_type": "markdown",
   "id": "6bdff400",
   "metadata": {},
   "source": [
    "проведем проверку по привиденному утверждению: $$ (a,0,c) + (0,b,d) = (a,b,c+d),\n",
    "~a*(a,b,c) = (aa,ab,ac)~-~полученные~ векторы~ не~ пренадлежат~ указанному~ множеству,~ то~ есть~ это~ множество~ не~ подпространство~ линейного~ пространства~ R^{3} $$"
   ]
  },
  {
   "cell_type": "markdown",
   "id": "c99c4b84",
   "metadata": {},
   "source": [
    "$$ б)~ все~ векторы,~ считающиеся~ линейными~ комбинациями~ данных~ векторов~  {𝑢1,𝑢2…,𝑢𝑛} $$"
   ]
  },
  {
   "cell_type": "markdown",
   "id": "fdcae4e6",
   "metadata": {},
   "source": [
    "$$ да~ вектора~ принадлежат~ указанному~ множеству,~ исходя~ из~ того,~ что~ для~ подпространства~ должны~ выполняться~ те~ же~ аксиомы,~ что~ и~ для~ исходного~ линейного~ пространства.~ Из~ этого~ следует,~ что~ подпространство~ линейного~ пространства~ и~ само~ по~ себе~ считается~ линейным~ пространством. $$"
   ]
  },
  {
   "cell_type": "markdown",
   "id": "3117df7a",
   "metadata": {},
   "source": [
    "## Линейное пространство. Основные понятия. Часть 2"
   ]
  },
  {
   "cell_type": "markdown",
   "id": "0959e094",
   "metadata": {},
   "source": [
    "### Найти скалярное произведение векторов $$ x, y \\in R $$"
   ]
  },
  {
   "cell_type": "markdown",
   "id": "88ee3ffe",
   "metadata": {},
   "source": [
    " $$ a)~ x = (0,−3,6),~ 𝑦 = (−4,7,9); $$ "
   ]
  },
  {
   "cell_type": "code",
   "execution_count": 2,
   "id": "5b7a71d1",
   "metadata": {},
   "outputs": [],
   "source": [
    "import numpy as np"
   ]
  },
  {
   "cell_type": "code",
   "execution_count": 4,
   "id": "c355c90b",
   "metadata": {},
   "outputs": [
    {
     "name": "stdout",
     "output_type": "stream",
     "text": [
      "a * b = 33\n"
     ]
    }
   ],
   "source": [
    "x = np.array([0, -3, 6])\n",
    "y = np.array([-4, 7, 9])\n",
    "print(\"a * b =\", np.dot(x, y))"
   ]
  },
  {
   "cell_type": "markdown",
   "id": "2aa6c679",
   "metadata": {},
   "source": [
    "$$ б)~x = (7,-4,0,1),~y = (-3,1,11,2) $$ "
   ]
  },
  {
   "cell_type": "code",
   "execution_count": 5,
   "id": "a3410bf0",
   "metadata": {},
   "outputs": [
    {
     "name": "stdout",
     "output_type": "stream",
     "text": [
      "a * b = -23\n"
     ]
    }
   ],
   "source": [
    "x = np.array([7, -4, 0, 1])\n",
    "y = np.array([-3, 1, 11, 2])\n",
    "print(\"a * b =\", np.dot(x, y))"
   ]
  },
  {
   "cell_type": "markdown",
   "id": "8585f8f8",
   "metadata": {},
   "source": [
    "### Найдите нормы векторов  a=(4,2,4)  и  b=(12,3,4)  и угол между ними"
   ]
  },
  {
   "cell_type": "code",
   "execution_count": 6,
   "id": "79c3e984",
   "metadata": {},
   "outputs": [],
   "source": [
    "from numpy.linalg import norm"
   ]
  },
  {
   "cell_type": "code",
   "execution_count": 7,
   "id": "dab06e7a",
   "metadata": {},
   "outputs": [],
   "source": [
    "a = np.array([4, 2, 4])\n",
    "b = np.array([12, 3, 4])"
   ]
  },
  {
   "cell_type": "code",
   "execution_count": 10,
   "id": "4af6b776",
   "metadata": {},
   "outputs": [
    {
     "name": "stdout",
     "output_type": "stream",
     "text": [
      "Манхэттенская норма вектора a:\n",
      "10.0\n",
      "Манхэттенская норма вектора b:\n",
      "19.0\n"
     ]
    }
   ],
   "source": [
    "print(f'Манхэттенская норма вектора a:\\n{norm(a, ord=1)}')\n",
    "print(f'Манхэттенская норма вектора b:\\n{norm(b, ord=1)}')"
   ]
  },
  {
   "cell_type": "code",
   "execution_count": 12,
   "id": "f623b979",
   "metadata": {},
   "outputs": [
    {
     "name": "stdout",
     "output_type": "stream",
     "text": [
      "Евклидова норма вектора а:\n",
      "6.0\n",
      "Евклидова норма вектора а:\n",
      "13.0\n"
     ]
    }
   ],
   "source": [
    "print(f'Евклидова норма вектора а:\\n{norm(a, ord=2)}')\n",
    "print(f'Евклидова норма вектора а:\\n{norm(b, ord=2)}')"
   ]
  },
  {
   "cell_type": "code",
   "execution_count": 13,
   "id": "92d532a3",
   "metadata": {},
   "outputs": [
    {
     "name": "stdout",
     "output_type": "stream",
     "text": [
      "Косинус угла между векторами 0.90\n"
     ]
    }
   ],
   "source": [
    "cos_phi = np.dot(a, b) / norm(a) / norm(b)\n",
    "print(f'Косинус угла между векторами {cos_phi:.2f}')"
   ]
  },
  {
   "cell_type": "code",
   "execution_count": 14,
   "id": "39269dfb",
   "metadata": {},
   "outputs": [
    {
     "name": "stdout",
     "output_type": "stream",
     "text": [
      "Угол 0.46\n"
     ]
    }
   ],
   "source": [
    "print(f'Угол {np.arccos(cos_phi):.2f}')"
   ]
  },
  {
   "cell_type": "markdown",
   "id": "d52deea6",
   "metadata": {},
   "source": [
    "### $$ Определите,~ будет~ ли~ линейное~ пространство~ евклидовым,~ если~ за~ скалярное~ произведение~ принять:~\n",
    "а)~ произведение~ длин~ векторов;~\n",
    "б)~ утроенное~ обычное~ скалярное~ произведение~ векторов? $$"
   ]
  },
  {
   "cell_type": "markdown",
   "id": "c2fd3b8f",
   "metadata": {},
   "source": [
    "Евклидовым пространством будет первый и второй вариант, так как линейное пространство E называется евклидовым,если в нем определено скалярное произведение."
   ]
  },
  {
   "cell_type": "markdown",
   "id": "6c5e52f5",
   "metadata": {},
   "source": [
    "### Выясните, какие из нижеперечисленных векторов образуют ортонормированный базис в линейном пространстве  ℝ3 "
   ]
  },
  {
   "cell_type": "markdown",
   "id": "02343866",
   "metadata": {},
   "source": [
    "В конечномерном евклидовом пространстве базис  {𝑒1,𝑒2...,𝑒𝑛}  называется ортонормированным, если:"
   ]
  },
  {
   "cell_type": "markdown",
   "id": "e2b0e3c7",
   "metadata": {},
   "source": [
    "(𝑒𝑖,𝑒𝑗)=0  ∀ 𝑖≠𝑗 и (𝑒𝑖,𝑒𝑖)=1 ∀ 𝑖∈[1,𝑛]"
   ]
  },
  {
   "cell_type": "code",
   "execution_count": 16,
   "id": "89ba80dd",
   "metadata": {},
   "outputs": [
    {
     "name": "stdout",
     "output_type": "stream",
     "text": [
      "Ортонормированный базис 0\n"
     ]
    }
   ],
   "source": [
    "# а)  (1,0,0),(0,0,1);\n",
    "a = np.array([1, 0, 0])\n",
    "b = np.array([0, 0, 1])\n",
    "print('Ортонормированный базис', np.dot(a, b))"
   ]
  },
  {
   "cell_type": "code",
   "execution_count": 17,
   "id": "521e9ca7",
   "metadata": {},
   "outputs": [
    {
     "name": "stdout",
     "output_type": "stream",
     "text": [
      "Ортонормированный базис\n",
      "0.0\n",
      "0.0\n",
      "0.0\n",
      "1.0, 1.0, 1.0\n"
     ]
    }
   ],
   "source": [
    "#б)  (1/2⎯⎯√,−1/2⎯⎯√,0),(1/2⎯⎯√,1/2⎯⎯√,0),(0,0,1); \n",
    "c = np.array([(1/(2**0.5)), (-1/(2**0.5)), 0])\n",
    "d = np.array([(1/(2**0.5)), (1/(2**0.5)), 0])\n",
    "b = np.array([0, 0, 1])\n",
    "print('Ортонормированный базис')\n",
    "print(np.dot(c, d))\n",
    "print(np.dot(c, b))\n",
    "print(np.dot(b, d))\n",
    "print(f'{norm(c):.1f}, {norm(d):.1f}, {norm(b):.1f}')"
   ]
  },
  {
   "cell_type": "code",
   "execution_count": 18,
   "id": "647f5174",
   "metadata": {},
   "outputs": [
    {
     "name": "stdout",
     "output_type": "stream",
     "text": [
      "Не ортогональный, не ортонормированный базис\n",
      "-0.25\n",
      "0.0\n",
      "0.5\n",
      "0.7071067811865476 0.7071067811865476 1.0\n"
     ]
    }
   ],
   "source": [
    "#в)  (1/2,−1/2,0),(0,1/2,1/2),(0,0,1); \n",
    "e = np.array([0.5, -0.5, 0])\n",
    "f = np.array([0, 0.5, 0.5])\n",
    "b = np.array([0, 0, 1])\n",
    "print('Не ортогональный, не ортонормированный базис')\n",
    "print(np.dot(e, f))\n",
    "print(np.dot(e, b))\n",
    "print(np.dot(b, f))\n",
    "print(norm(e), norm(f), norm(b))"
   ]
  },
  {
   "cell_type": "code",
   "execution_count": 19,
   "id": "8207572d",
   "metadata": {},
   "outputs": [
    {
     "name": "stdout",
     "output_type": "stream",
     "text": [
      "Ортонормированный базис\n"
     ]
    }
   ],
   "source": [
    "#г)  (1,0,0),(0,1,0),(0,0,1)\n",
    "print('Ортонормированный базис')"
   ]
  }
 ],
 "metadata": {
  "kernelspec": {
   "display_name": "Python 3 (ipykernel)",
   "language": "python",
   "name": "python3"
  },
  "language_info": {
   "codemirror_mode": {
    "name": "ipython",
    "version": 3
   },
   "file_extension": ".py",
   "mimetype": "text/x-python",
   "name": "python",
   "nbconvert_exporter": "python",
   "pygments_lexer": "ipython3",
   "version": "3.9.12"
  }
 },
 "nbformat": 4,
 "nbformat_minor": 5
}
