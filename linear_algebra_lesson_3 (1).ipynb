{
 "cells": [
  {
   "cell_type": "markdown",
   "id": "18015991",
   "metadata": {},
   "source": [
    "## Линейные преобразования"
   ]
  },
  {
   "cell_type": "markdown",
   "id": "4786eb3d",
   "metadata": {},
   "source": [
    "### Найдите собственные векторы и собственные значения для линейного оператора, заданного матрицей:\n",
    "\n",
    "$$A=\\begin{pmatrix}\n",
    "-1 & -6\\\\ \n",
    "2 & 6\n",
    "\\end{pmatrix}.$$"
   ]
  },
  {
   "cell_type": "markdown",
   "id": "6d59571d",
   "metadata": {},
   "source": [
    "_Собственный вектор_ оператора $\\textbf{A}$ — это такой ненулевой вектор, действие оператора на который сводится к умножению его на число:\n",
    "\n",
    "$$\\textbf{A}x=\\lambda x.$$\n",
    "\n",
    "Число $\\lambda$ называется _собственным значением_ этого оператора."
   ]
  },
  {
   "cell_type": "code",
   "execution_count": 2,
   "id": "f78f899f",
   "metadata": {},
   "outputs": [],
   "source": [
    "import numpy as np"
   ]
  },
  {
   "cell_type": "code",
   "execution_count": 1,
   "id": "d569dbb8",
   "metadata": {},
   "outputs": [],
   "source": [
    "def is_eig(A):\n",
    "    w, v = np.linalg.eig(A)\n",
    "    print(f'Матрица A:\\n{A}')\n",
    "    print(f'Собственные значения:\\n{w}')\n",
    "    print(f'Собственные векторы:\\n{v}')"
   ]
  },
  {
   "cell_type": "code",
   "execution_count": 10,
   "id": "26d063eb",
   "metadata": {},
   "outputs": [
    {
     "name": "stdout",
     "output_type": "stream",
     "text": [
      "Матрица A:\n",
      "[[1 1]\n",
      " [0 1]]\n",
      "Собственные значения:\n",
      "[1. 1.]\n",
      "Собственные векторы:\n",
      "[[ 1.00000000e+00 -1.00000000e+00]\n",
      " [ 0.00000000e+00  2.22044605e-16]]\n"
     ]
    }
   ],
   "source": [
    "a = np.array([[1, 1], [0, 1]])\n",
    "w, v = np.linalg.eig(a)\n",
    "\n",
    "print(f'Матрица A:\\n{a}')\n",
    "print(f'Собственные значения:\\n{w}')\n",
    "print(f'Собственные векторы:\\n{v}')"
   ]
  },
  {
   "cell_type": "markdown",
   "id": "cdd3b279",
   "metadata": {},
   "source": [
    "### Дан оператор поворота на 180 градусов, задаваемый матрицей:\n",
    "\n",
    "$$A=\\begin{pmatrix}\n",
    "-1 & 0\\\\ \n",
    "0 & -1\n",
    "\\end{pmatrix}.$$\n",
    "\n",
    "Покажите, что любой вектор считается для него собственным.\n"
   ]
  },
  {
   "cell_type": "markdown",
   "id": "d9b75538",
   "metadata": {},
   "source": [
    "найдём собственные значения линейного оператора, составив и решив характеристическое уравнение"
   ]
  },
  {
   "cell_type": "markdown",
   "id": "2cec0f1a",
   "metadata": {},
   "source": [
    "$$ \\begin{pmatrix} -1-\\lambda& 0\\\\ 0& -1-\\lambda \\end{pmatrix} = 0$$"
   ]
  },
  {
   "cell_type": "markdown",
   "id": "36d3eaf7",
   "metadata": {},
   "source": [
    "$$ \\lambda_{1}~=~\\lambda_{2} = -1 $$"
   ]
  },
  {
   "cell_type": "markdown",
   "id": "b586a7cd",
   "metadata": {},
   "source": [
    "Найдём собственные векторы вида $\\begin{pmatrix}\n",
    "x_{1}\\\\ \n",
    "x_{2}\n",
    "\\end{pmatrix}$, подставив полученное собственное значение в выражение $\\textbf{A}x=\\lambda x$:"
   ]
  },
  {
   "cell_type": "markdown",
   "id": "a0a323ac",
   "metadata": {},
   "source": [
    "Получим:\n",
    "\n",
    "$$\\begin{cases}\n",
    "-1\\cdot x_{1}+0\\cdot x_{2}= -x_{1}, \\\\\n",
    "0\\cdot x_{1}-1\\cdot x_{2}= -x_{2}.\n",
    "\\end{cases}$$ "
   ]
  },
  {
   "cell_type": "markdown",
   "id": "81e95c94",
   "metadata": {},
   "source": [
    "$$\\begin{cases}\n",
    "x_{1} = x_{1}, \\\\\n",
    "x_{2} = x_{2}.\n",
    "\\end{cases}$$"
   ]
  },
  {
   "cell_type": "markdown",
   "id": "1cdea6a6",
   "metadata": {},
   "source": [
    "ограничений нет, справедливо для любого вектора."
   ]
  },
  {
   "cell_type": "markdown",
   "id": "5f037a79",
   "metadata": {},
   "source": [
    "### Пусть линейный оператор задан матрицей:\n",
    "\n",
    "$$A=\\begin{pmatrix}\n",
    "1 & 1\\\\ \n",
    "-1 & 3\n",
    "\\end{pmatrix}.$$\n",
    "\n",
    "Установите, считается ли вектор $x=(1,1)$ собственным вектором этого линейного оператора.\n"
   ]
  },
  {
   "cell_type": "markdown",
   "id": "08005edd",
   "metadata": {},
   "source": [
    "$$ \\begin{cases}1+1 = \\lambda \\cdot 1\\\\-1+3 = \\lambda \\cdot 1\\end{cases} \\Rightarrow \\begin{cases} \\lambda = 2\\\\ \\lambda = 2\\end{cases} $$"
   ]
  },
  {
   "cell_type": "code",
   "execution_count": 13,
   "id": "dab18e93",
   "metadata": {},
   "outputs": [
    {
     "name": "stdout",
     "output_type": "stream",
     "text": [
      "Матрица A:\n",
      "[[ 1  1]\n",
      " [-1  3]]\n",
      "Собственные значения:\n",
      "[2.00000002 1.99999998]\n",
      "Собственные векторы:\n",
      "[[ 0.70710677 -0.70710679]\n",
      " [ 0.70710679 -0.70710677]]\n"
     ]
    }
   ],
   "source": [
    "A = np.array([[1, 1], [-1, 3]])\n",
    "is_eig(A)"
   ]
  },
  {
   "cell_type": "markdown",
   "id": "43cc5d3e",
   "metadata": {},
   "source": [
    "Вектор x=(1,1) является собственным вектором линейного оператора, заданного матрицей A. "
   ]
  },
  {
   "cell_type": "markdown",
   "id": "9df2c595",
   "metadata": {},
   "source": [
    "### Пусть линейный оператор задан матрицей:\n",
    "\n",
    "$$A=\\begin{pmatrix} 0 & 3 & 0\\\\ 3 & 0 & 0\\\\ 0 & 0 & 3 \\end{pmatrix}.$$\n",
    "\n",
    "Установите, считается ли вектор $x=(3, -3, -4)$ собственным вектором этого линейного оператора."
   ]
  },
  {
   "cell_type": "markdown",
   "id": "1cabbf4b",
   "metadata": {},
   "source": [
    "$$ \\begin{pmatrix} 0 & 3 & 0\\\\ 3 & 0 & 0\\\\ 0 & 0 & 3 \\end{pmatrix} \\begin{pmatrix} 3\\\\ -3\\\\ -4 \\end{pmatrix} = \\lambda \\cdot \\begin{pmatrix} 3\\\\ -3\\\\ -4 \\end{pmatrix} $$"
   ]
  },
  {
   "cell_type": "markdown",
   "id": "88418777",
   "metadata": {},
   "source": [
    "$$ \\begin{cases}-9 = 3 \\cdot \\lambda \\\\9 = -3 \\cdot \\lambda \\\\ -12 = -4 \\cdot \\lambda \\end{cases} \\Rightarrow \\begin{cases}\\lambda = -3 \\\\\\lambda = -3 \\\\ \\lambda = 3 \\end{cases} $$"
   ]
  },
  {
   "cell_type": "markdown",
   "id": "8ac75959",
   "metadata": {},
   "source": [
    "Такая система не имеет смысла, следовательно, вектор  𝑥=(3,−3,-4)  не считается собственным вектором линейного оператора, заданного матрицей  𝐴 ."
   ]
  }
 ],
 "metadata": {
  "kernelspec": {
   "display_name": "Python 3 (ipykernel)",
   "language": "python",
   "name": "python3"
  },
  "language_info": {
   "codemirror_mode": {
    "name": "ipython",
    "version": 3
   },
   "file_extension": ".py",
   "mimetype": "text/x-python",
   "name": "python",
   "nbconvert_exporter": "python",
   "pygments_lexer": "ipython3",
   "version": "3.9.12"
  }
 },
 "nbformat": 4,
 "nbformat_minor": 5
}
