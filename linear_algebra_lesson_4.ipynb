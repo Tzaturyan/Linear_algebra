{
 "cells": [
  {
   "cell_type": "markdown",
   "id": "e55401f1",
   "metadata": {},
   "source": [
    "## Системы линейных уравнений"
   ]
  },
  {
   "cell_type": "markdown",
   "id": "a2e94e4d",
   "metadata": {},
   "source": [
    "### Решите систему уравнений методом Гаусса:\n",
    "\n",
    "$$\\begin{cases}\n",
    "x_{1}+x_{2}-x_{3}-2x_{4}=0, \\\\\n",
    "2x_{1}+x_{2}-x_{3}+x_{4}=-2, \\\\\n",
    "x_{1}+x_{2}-3x_{3}+x_{4}=4.\n",
    "\\end{cases}$$"
   ]
  },
  {
   "cell_type": "markdown",
   "id": "a7c0674f",
   "metadata": {},
   "source": [
    "переведем данную систему уравнений в матрицу, далее путем операций со строками приведем ее к матрице треугольного вида, что позволит нам вычислить последнею переменную а дальше путем подстановок найти остальные"
   ]
  },
  {
   "cell_type": "code",
   "execution_count": 1,
   "id": "9bafc45c",
   "metadata": {},
   "outputs": [],
   "source": [
    "import numpy as np"
   ]
  },
  {
   "cell_type": "code",
   "execution_count": 2,
   "id": "14060617",
   "metadata": {},
   "outputs": [],
   "source": [
    "def gauss_method(A, b, n):\n",
    "    rnk_A = np.linalg.matrix_rank(A)\n",
    "    rnk_Ab = np.linalg.matrix_rank(np.hstack((A, b)))\n",
    "    if  rnk_A == rnk_Ab == n:\n",
    "        return 'Cистема имеет единственное решение'\n",
    "    elif (rnk_A == rnk_Ab) and (rnk_A < n):\n",
    "        return 'Cистема имеет бесконечное колличество решений'\n",
    "    elif rnk_A < rnk_Ab:\n",
    "        return 'Cистема несовместна'"
   ]
  },
  {
   "cell_type": "code",
   "execution_count": 3,
   "id": "91998af8",
   "metadata": {},
   "outputs": [
    {
     "data": {
      "text/plain": [
       "'Cистема имеет бесконечное количество решений'"
      ]
     },
     "execution_count": 3,
     "metadata": {},
     "output_type": "execute_result"
    }
   ],
   "source": [
    "A = np.array([[1, 1, -1, -2], [2, 1, -1, 1], [1, 1, -3, 1]])\n",
    "b = np.array([0, -2, 4]).reshape(-1, 1)\n",
    "gauss_method(A, b, 4)"
   ]
  },
  {
   "cell_type": "markdown",
   "id": "f7baee29",
   "metadata": {},
   "source": [
    "Последняя строка стала нулевой, что позволяет нам убрать её из матрицы, соответственно получилось что переменных больше чем уравнений, а это означает что система имеет бесконечное колличество решений."
   ]
  },
  {
   "cell_type": "markdown",
   "id": "26bf1253",
   "metadata": {},
   "source": [
    "### Проверьте на совместность и выясните, сколько решений будет иметь система линейных уравнений:\n",
    "\n",
    "   а) $\\begin{cases}\n",
    "3x_{1}-x_{2}+x_{3}=4, \\\\\n",
    "2x_{1}-5x_{2}-3x_{3}=-17, \\\\\n",
    "x_{1}+x_{2}-x_{3}=0;\n",
    "\\end{cases}$\n",
    "\n",
    "б) $\\begin{cases}\n",
    "2x_{1}-4x_{2}+6x_{3}=1, \\\\\n",
    "x_{1}-2x_{2}+3x_{3}=-2, \\\\\n",
    "3x_{1}-6x_{2}+9x_{3}=5;\n",
    "\\end{cases}$\n",
    "    \n",
    "   в) $\\begin{cases}\n",
    "x_{1}+2x_{2}+5x_{3}=4, \\\\\n",
    "3x_{1}+x_{2}-8x_{3}=-2. \n",
    "\\end{cases}$"
   ]
  },
  {
   "cell_type": "markdown",
   "id": "b3747a99",
   "metadata": {},
   "source": [
    "а)"
   ]
  },
  {
   "cell_type": "code",
   "execution_count": 4,
   "id": "db2c0340",
   "metadata": {},
   "outputs": [
    {
     "data": {
      "text/plain": [
       "'Cистема имеет единственное решение'"
      ]
     },
     "execution_count": 4,
     "metadata": {},
     "output_type": "execute_result"
    }
   ],
   "source": [
    "A = np.array([[3, -1, 1], [2, -5, -3], [1, 1, -1]])\n",
    "b = np.array([4, 17, 0]).reshape(-1, 1)\n",
    "gauss_method(A, b, 3)"
   ]
  },
  {
   "cell_type": "markdown",
   "id": "5dce5812",
   "metadata": {},
   "source": [
    "система совместна и является определенной, вектор b(4,17,0) можно выразить через исходные вектора"
   ]
  },
  {
   "cell_type": "code",
   "execution_count": 5,
   "id": "51950474",
   "metadata": {},
   "outputs": [
    {
     "data": {
      "text/plain": [
       "'Cистема несовместна'"
      ]
     },
     "execution_count": 5,
     "metadata": {},
     "output_type": "execute_result"
    }
   ],
   "source": [
    "A = np.array([[2, -4, 6], [1, -2, 3], [3, -6, 9]])\n",
    "b = np.array([1, -2, 5]).reshape(-1, 1)\n",
    "gauss_method(A, b, 3)"
   ]
  },
  {
   "cell_type": "code",
   "execution_count": null,
   "id": "9155a8e0",
   "metadata": {},
   "outputs": [],
   "source": [
    "система несовместна и не имеет решения, вектор b(1,-2,5) нельзя выразить через исходные вектора"
   ]
  },
  {
   "cell_type": "code",
   "execution_count": 6,
   "id": "605b0957",
   "metadata": {},
   "outputs": [
    {
     "data": {
      "text/plain": [
       "'Cистема имеет бесконечное количество решений'"
      ]
     },
     "execution_count": 6,
     "metadata": {},
     "output_type": "execute_result"
    }
   ],
   "source": [
    "A = np.array([[1, 2, 5], [3, 1, -8]])\n",
    "b = np.array([4, -2]).reshape(-1, 1)\n",
    "gauss_method(A, b, 3)"
   ]
  },
  {
   "cell_type": "markdown",
   "id": "8186aad8",
   "metadata": {},
   "source": [
    "### Проверьте на совместность и выясните, сколько решений будет иметь система линейных уравнений, заданная расширенной матрицей:\n",
    "\n",
    "$$\\tilde{A}=\\begin{pmatrix}\n",
    "\\left.\\begin{matrix}\n",
    "1 & 3 & -2 & 4\\\\ \n",
    "0 & 5 & 0 & 1\\\\ \n",
    "0 & 0 & 3 & 0\\\\ \n",
    "0 & 0 & 0 & 2\n",
    "\\end{matrix}\\right|\n",
    "\\begin{matrix}\n",
    "3\\\\ \n",
    "2\\\\\n",
    "4\\\\\n",
    "1\n",
    "\\end{matrix}\n",
    "\\end{pmatrix}.$$"
   ]
  },
  {
   "cell_type": "code",
   "execution_count": 7,
   "id": "21d4b226",
   "metadata": {},
   "outputs": [
    {
     "data": {
      "text/plain": [
       "'Cистема имеет единственное решение'"
      ]
     },
     "execution_count": 7,
     "metadata": {},
     "output_type": "execute_result"
    }
   ],
   "source": [
    "A = np.array([[1, 3, -2, 4], [0, 5, 0, 1], [0, 0, 3, 0], [0, 0, 0, 2]])\n",
    "b = np.array([3, 2, 4, 1]).reshape(-1, 1)\n",
    "gauss_method(A, b, 4)"
   ]
  },
  {
   "cell_type": "markdown",
   "id": "0c661b53",
   "metadata": {},
   "source": [
    "### Дана система линейных уравнений, заданная расширенной матрицей:\n",
    "\n",
    "$$\\tilde{A}=\\begin{pmatrix}\n",
    "\\left.\\begin{matrix}\n",
    "1 & 2 & 3\\\\ \n",
    "4 & 5 & 6\\\\ \n",
    "7 & 8 & 9\n",
    "\\end{matrix}\\right|\n",
    "\\begin{matrix}\n",
    "a\\\\ \n",
    "b\\\\\n",
    "c\n",
    "\\end{matrix}\n",
    "\\end{pmatrix}.$$\n",
    "\n",
    "Найдите соотношение между параметрами $a$, $b$ и $c$, при которых система считается несовместной."
   ]
  },
  {
   "cell_type": "markdown",
   "id": "1e5f6594",
   "metadata": {},
   "source": [
    "представить систему линейных уравнений через линейную комбинацию векторов коэффициентов:"
   ]
  },
  {
   "cell_type": "markdown",
   "id": "fd35630f",
   "metadata": {},
   "source": [
    "$$x_{1}\\begin{pmatrix}\n",
    "1\\\\ \n",
    "4\\\\\n",
    "7\n",
    "\\end{pmatrix}+\n",
    "x_{2}\\begin{pmatrix}\n",
    "2\\\\ \n",
    "5\\\\\n",
    "8\n",
    "\\end{pmatrix}+\n",
    "x_{2}\\begin{pmatrix}\n",
    "3\\\\ \n",
    "6\\\\\n",
    "9\n",
    "\\end{pmatrix} $$"
   ]
  },
  {
   "cell_type": "markdown",
   "id": "a6d34748",
   "metadata": {},
   "source": [
    "В таком представлении вектор свободных членов  𝑏  считается линейной комбинацией векторов  𝑎1,𝑎2...,𝑎𝑚  с коэффициентами  𝑥1,𝑥2...,𝑥𝑛 ."
   ]
  },
  {
   "cell_type": "markdown",
   "id": "b258be9a",
   "metadata": {},
   "source": [
    "Векторы коэффициентов линейно зависимы"
   ]
  },
  {
   "cell_type": "markdown",
   "id": "c433898b",
   "metadata": {},
   "source": [
    "Когда векторы столбцов коэффициентов  𝑎1,𝑎2...,𝑎𝑛  линейно зависимы, они образуют некоторое линейное подпространство размерности меньше, чем  𝑛 . И такая система совместна, только когда вектор  𝑏  принадлежит этому линейному подпространству. В этом случае система имеет бесконечное число решений. Если же вектор  𝑏  этому подпространству не принадлежит, система решений не имеет."
   ]
  },
  {
   "cell_type": "markdown",
   "id": "b80e795a",
   "metadata": {},
   "source": [
    "#### Для того что бы система уравнений была несовместна и не имела решений, вектор свободных членов должен принимать любое значение, за исключением равных векторам столбцов коэфициентов, тогда система будет иметь бесконечное колличество решений"
   ]
  },
  {
   "cell_type": "markdown",
   "id": "b38af5db",
   "metadata": {},
   "source": [
    "проверим данное утверждение"
   ]
  },
  {
   "cell_type": "markdown",
   "id": "45c7fea8",
   "metadata": {},
   "source": [
    "подствим любой вектор свободных членов не равный векторам столбцов коэфициентов"
   ]
  },
  {
   "cell_type": "code",
   "execution_count": 14,
   "id": "06940035",
   "metadata": {},
   "outputs": [
    {
     "data": {
      "text/plain": [
       "'Cистема несовместна'"
      ]
     },
     "execution_count": 14,
     "metadata": {},
     "output_type": "execute_result"
    }
   ],
   "source": [
    "A = np.array([[1, 2, 3], [4, 5, 6], [7, 8, 9]])\n",
    "b = np.array([2, 2, 3]).reshape(-1, 1)\n",
    "gauss_method(A, b, 3)"
   ]
  },
  {
   "cell_type": "markdown",
   "id": "16e39a81",
   "metadata": {},
   "source": [
    "подставим вектор равный одному из векторов столбцов коэфициентов"
   ]
  },
  {
   "cell_type": "code",
   "execution_count": 15,
   "id": "01f95af6",
   "metadata": {},
   "outputs": [
    {
     "data": {
      "text/plain": [
       "'Cистема имеет бесконечное количество решений'"
      ]
     },
     "execution_count": 15,
     "metadata": {},
     "output_type": "execute_result"
    }
   ],
   "source": [
    "A = np.array([[1, 2, 3], [4, 5, 6], [7, 8, 9]])\n",
    "b = np.array([1, 4, 7]).reshape(-1, 1)\n",
    "gauss_method(A, b, 3)"
   ]
  },
  {
   "cell_type": "markdown",
   "id": "559d2e01",
   "metadata": {},
   "source": [
    "### Решите систему уравнений методом Крамера:\n",
    "\n",
    "   а) $\\begin{cases}\n",
    "x_{1}-2x_{2}=1 \\\\\n",
    "3x_{1}-4x_{2}=7\n",
    "\\end{cases}$\n",
    "    \n",
    "   б) $\\begin{cases}\n",
    "2x_{1}-x_{2}+5x_{3}=10 \\\\\n",
    "x_{1}+x_{2}-3x_{3}=-2 \\\\\n",
    "2x_{1}+4x_{2}+x_{3}=1\n",
    "\\end{cases}$"
   ]
  },
  {
   "cell_type": "markdown",
   "id": "53a2a961",
   "metadata": {},
   "source": [
    "будем подставлять свободные члены в матрицу, искать определители и находить x путем деления определителя исходной матрицы на матрицы со свободными членами"
   ]
  },
  {
   "cell_type": "markdown",
   "id": "2d665168",
   "metadata": {},
   "source": [
    "a)"
   ]
  },
  {
   "cell_type": "code",
   "execution_count": 16,
   "id": "40d94f0e",
   "metadata": {},
   "outputs": [
    {
     "data": {
      "text/plain": [
       "4.999999999999998"
      ]
     },
     "execution_count": 16,
     "metadata": {},
     "output_type": "execute_result"
    }
   ],
   "source": [
    "A = np.array([[1, -2], [3, -4]])\n",
    "b = np.array([1, 7]).reshape(-1, 1)\n",
    "\n",
    "x1 = np.linalg.det(np.hstack((b, A[:,1].reshape(-1, 1)))) /  np.linalg.det(A)\n",
    "x1\n"
   ]
  },
  {
   "cell_type": "code",
   "execution_count": 17,
   "id": "5db629c4",
   "metadata": {},
   "outputs": [
    {
     "data": {
      "text/plain": [
       "1.9999999999999991"
      ]
     },
     "execution_count": 17,
     "metadata": {},
     "output_type": "execute_result"
    }
   ],
   "source": [
    "x2 = np.linalg.det(np.hstack((A[:,0].reshape(-1, 1), b))) /  np.linalg.det(A)\n",
    "x2"
   ]
  },
  {
   "cell_type": "code",
   "execution_count": 18,
   "id": "180d4f02",
   "metadata": {},
   "outputs": [
    {
     "data": {
      "text/plain": [
       "array([[5.],\n",
       "       [2.]])"
      ]
     },
     "execution_count": 18,
     "metadata": {},
     "output_type": "execute_result"
    }
   ],
   "source": [
    "np.linalg.solve(A, b)"
   ]
  },
  {
   "cell_type": "markdown",
   "id": "cc12f00b",
   "metadata": {},
   "source": [
    "б)"
   ]
  },
  {
   "cell_type": "code",
   "execution_count": 19,
   "id": "7df5545a",
   "metadata": {},
   "outputs": [],
   "source": [
    "A = np.array([[2, -1, 5], [1, 2, -3], [2, 4, 1]])\n",
    "b = np.array([10, -2, 1]).reshape(-1, 1)"
   ]
  },
  {
   "cell_type": "code",
   "execution_count": 20,
   "id": "06fd3f48",
   "metadata": {},
   "outputs": [
    {
     "data": {
      "text/plain": [
       "2.6000000000000023"
      ]
     },
     "execution_count": 20,
     "metadata": {},
     "output_type": "execute_result"
    }
   ],
   "source": [
    "x_1 = np.linalg.det(np.hstack((b, A[:,1:]))) /  np.linalg.det(A)\n",
    "x_1"
   ]
  },
  {
   "cell_type": "code",
   "execution_count": 21,
   "id": "eaf3898f",
   "metadata": {},
   "outputs": [
    {
     "data": {
      "text/plain": [
       "-1.2285714285714293"
      ]
     },
     "execution_count": 21,
     "metadata": {},
     "output_type": "execute_result"
    }
   ],
   "source": [
    "x_2 = np.linalg.det(np.hstack((A[:,:1], b, A[:,-1:]))) /  np.linalg.det(A)\n",
    "x_2"
   ]
  },
  {
   "cell_type": "code",
   "execution_count": 22,
   "id": "318d65b1",
   "metadata": {},
   "outputs": [
    {
     "data": {
      "text/plain": [
       "0.7142857142857143"
      ]
     },
     "execution_count": 22,
     "metadata": {},
     "output_type": "execute_result"
    }
   ],
   "source": [
    "x_3 = np.linalg.det(np.hstack((A[:,:2], b))) /  np.linalg.det(A)\n",
    "x_3"
   ]
  },
  {
   "cell_type": "code",
   "execution_count": 23,
   "id": "55c0465d",
   "metadata": {},
   "outputs": [
    {
     "data": {
      "text/plain": [
       "array([[ 2.6       ],\n",
       "       [-1.22857143],\n",
       "       [ 0.71428571]])"
      ]
     },
     "execution_count": 23,
     "metadata": {},
     "output_type": "execute_result"
    }
   ],
   "source": [
    "np.linalg.solve(A, b)"
   ]
  },
  {
   "cell_type": "markdown",
   "id": "3aacce6a",
   "metadata": {},
   "source": [
    "### Найдите $L$-матрицу $LU$-разложения для матрицы коэффициентов:\n",
    "\n",
    "   а)$$\\begin{pmatrix}\n",
    "1 & 2 & 4 \\\\ \n",
    "2 & 9 & 12 \\\\ \n",
    "3 & 26 & 30\n",
    "\\end{pmatrix}$$\n",
    "    \n",
    "   б)$$\\begin{pmatrix}\n",
    "1 & 1 & 2 & 4\\\\ \n",
    "2 & 5 & 8 & 9\\\\ \n",
    "3 & 18 & 29 & 18\\\\\n",
    "4 & 22 & 53 & 33\n",
    "\\end{pmatrix}$$"
   ]
  },
  {
   "cell_type": "markdown",
   "id": "36d2ad61",
   "metadata": {},
   "source": [
    "а)"
   ]
  },
  {
   "cell_type": "code",
   "execution_count": 24,
   "id": "78724925",
   "metadata": {},
   "outputs": [
    {
     "name": "stdout",
     "output_type": "stream",
     "text": [
      "A:\n",
      "array([[ 1,  2,  4],\n",
      "       [ 2,  9, 12],\n",
      "       [ 3, 26, 30]])\n",
      "P (permutation):\n",
      "array([[0., 0., 1.],\n",
      "       [0., 1., 0.],\n",
      "       [1., 0., 0.]])\n",
      "L:\n",
      "array([[1.        , 0.        , 0.        ],\n",
      "       [0.66666667, 1.        , 0.        ],\n",
      "       [0.33333333, 0.8       , 1.        ]])\n",
      "U:\n",
      "array([[ 3.        , 26.        , 30.        ],\n",
      "       [ 0.        , -8.33333333, -8.        ],\n",
      "       [ 0.        ,  0.        ,  0.4       ]])\n"
     ]
    },
    {
     "name": "stderr",
     "output_type": "stream",
     "text": [
      "C:\\Users\\1\\AppData\\Local\\Temp\\ipykernel_5036\\2016233810.py:5: DeprecationWarning: scipy.array is deprecated and will be removed in SciPy 2.0.0, use numpy.array instead\n",
      "  A = scipy.array([[1, 2, 4], [2, 9, 12], [3, 26, 30]])\n"
     ]
    }
   ],
   "source": [
    "import pprint\n",
    "import scipy\n",
    "import scipy.linalg\n",
    "\n",
    "A = scipy.array([[1, 2, 4], [2, 9, 12], [3, 26, 30]])\n",
    "P, L, U = scipy.linalg.lu(A)\n",
    "print(\"A:\")\n",
    "pprint.pprint(A)\n",
    "\n",
    "print(\"P (permutation):\")\n",
    "pprint.pprint(P)\n",
    "\n",
    "print(\"L:\")\n",
    "pprint.pprint(L)\n",
    "\n",
    "print(\"U:\")\n",
    "pprint.pprint(U)"
   ]
  },
  {
   "cell_type": "markdown",
   "id": "ec8ed2eb",
   "metadata": {},
   "source": [
    "б)"
   ]
  },
  {
   "cell_type": "code",
   "execution_count": 25,
   "id": "0823ea75",
   "metadata": {},
   "outputs": [
    {
     "name": "stdout",
     "output_type": "stream",
     "text": [
      "B:\n",
      "array([[ 1,  1,  2,  4],\n",
      "       [ 2,  5,  8,  9],\n",
      "       [ 3, 18, 29, 18],\n",
      "       [ 4, 22, 53, 33]])\n",
      "P:\n",
      "array([[0., 0., 0., 1.],\n",
      "       [0., 1., 0., 0.],\n",
      "       [0., 0., 1., 0.],\n",
      "       [1., 0., 0., 0.]])\n",
      "L:\n",
      "array([[ 1.        ,  0.        ,  0.        ,  0.        ],\n",
      "       [ 0.5       ,  1.        ,  0.        ,  0.        ],\n",
      "       [ 0.75      , -0.25      ,  1.        ,  0.        ],\n",
      "       [ 0.25      ,  0.75      , -0.17073171,  1.        ]])\n",
      "U:\n",
      "array([[  4.        ,  22.        ,  53.        ,  33.        ],\n",
      "       [  0.        ,  -6.        , -18.5       ,  -7.5       ],\n",
      "       [  0.        ,   0.        , -15.375     ,  -8.625     ],\n",
      "       [  0.        ,   0.        ,   0.        ,  -0.09756098]])\n"
     ]
    },
    {
     "name": "stderr",
     "output_type": "stream",
     "text": [
      "C:\\Users\\1\\AppData\\Local\\Temp\\ipykernel_5036\\2255086693.py:1: DeprecationWarning: scipy.array is deprecated and will be removed in SciPy 2.0.0, use numpy.array instead\n",
      "  B = scipy.array([[1, 1, 2, 4], [2, 5, 8, 9], [3, 18, 29, 18], [4, 22, 53, 33]])\n"
     ]
    }
   ],
   "source": [
    "B = scipy.array([[1, 1, 2, 4], [2, 5, 8, 9], [3, 18, 29, 18], [4, 22, 53, 33]])\n",
    "P, L, U = scipy.linalg.lu(B)\n",
    "print(\"B:\")\n",
    "pprint.pprint(B)\n",
    "\n",
    "print(\"P:\")\n",
    "pprint.pprint(P)\n",
    "\n",
    "print(\"L:\")\n",
    "pprint.pprint(L)\n",
    "\n",
    "print(\"U:\")\n",
    "pprint.pprint(U)"
   ]
  },
  {
   "cell_type": "markdown",
   "id": "8677e9f2",
   "metadata": {},
   "source": [
    "### Решите систему линейных уравнений методом $LU$-разложения:\n",
    "\n",
    "$$\\begin{cases}\n",
    "2x_{1}+x_{2}+3x_{3}=1 \\\\\n",
    "11x_{1}+7x_{2}+5x_{3}=-6 \\\\\n",
    "9x_{1}+8x_{2}+4x_{3}=-5\n",
    "\\end{cases}$$"
   ]
  },
  {
   "cell_type": "code",
   "execution_count": 26,
   "id": "44464d8d",
   "metadata": {},
   "outputs": [
    {
     "name": "stdout",
     "output_type": "stream",
     "text": [
      "A:\n",
      "array([[ 2,  1,  3],\n",
      "       [11,  7,  5],\n",
      "       [ 9,  8,  4]])\n",
      "P (permutation):\n",
      "array([[0., 0., 1.],\n",
      "       [1., 0., 0.],\n",
      "       [0., 1., 0.]])\n",
      "L:\n",
      "array([[ 1.        ,  0.        ,  0.        ],\n",
      "       [ 0.81818182,  1.        ,  0.        ],\n",
      "       [ 0.18181818, -0.12      ,  1.        ]])\n",
      "U:\n",
      "array([[11.        ,  7.        ,  5.        ],\n",
      "       [ 0.        ,  2.27272727, -0.09090909],\n",
      "       [ 0.        ,  0.        ,  2.08      ]])\n"
     ]
    },
    {
     "name": "stderr",
     "output_type": "stream",
     "text": [
      "C:\\Users\\1\\AppData\\Local\\Temp\\ipykernel_5036\\482369979.py:1: DeprecationWarning: scipy.array is deprecated and will be removed in SciPy 2.0.0, use numpy.array instead\n",
      "  A = scipy.array([[2, 1, 3], [11, 7, 5], [9, 8, 4]])\n"
     ]
    }
   ],
   "source": [
    "A = scipy.array([[2, 1, 3], [11, 7, 5], [9, 8, 4]])\n",
    "P, L, U = scipy.linalg.lu(A)\n",
    "print(\"A:\")\n",
    "pprint.pprint(A)\n",
    "\n",
    "print(\"P (permutation):\")\n",
    "pprint.pprint(P)\n",
    "\n",
    "print(\"L:\")\n",
    "pprint.pprint(L)\n",
    "\n",
    "print(\"U:\")\n",
    "pprint.pprint(U)"
   ]
  },
  {
   "cell_type": "markdown",
   "id": "36eefcfa",
   "metadata": {},
   "source": [
    "Ly=b"
   ]
  },
  {
   "cell_type": "code",
   "execution_count": 27,
   "id": "56f3d695",
   "metadata": {},
   "outputs": [
    {
     "name": "stdout",
     "output_type": "stream",
     "text": [
      "y1: 1.0, y2: -6.8, y3: -6.0\n"
     ]
    }
   ],
   "source": [
    "y1 = 1\n",
    "y2 = -6 - 0.82\n",
    "y3 = -5 -0.18 +0.12*y2\n",
    "print(f'y1: {y1:.1f}, y2: {y2:.1f}, y3: {y3:.1f}')"
   ]
  },
  {
   "cell_type": "markdown",
   "id": "a358a83f",
   "metadata": {},
   "source": [
    "Ux=y"
   ]
  },
  {
   "cell_type": "code",
   "execution_count": 28,
   "id": "b1f61d8f",
   "metadata": {},
   "outputs": [
    {
     "name": "stdout",
     "output_type": "stream",
     "text": [
      "x1: 3.4, x2: -3.1, x3: -2.9\n"
     ]
    }
   ],
   "source": [
    "x3 = y3/2.08\n",
    "x2 = (y2 + 0.09 * x3)/ 2.27\n",
    "x1 = (y1- 5*x3 - 7*x2)/11\n",
    "print(f'x1: {x1:.1f}, x2: {x2:.1f}, x3: {x3:.1f}')"
   ]
  }
 ],
 "metadata": {
  "kernelspec": {
   "display_name": "Python 3 (ipykernel)",
   "language": "python",
   "name": "python3"
  },
  "language_info": {
   "codemirror_mode": {
    "name": "ipython",
    "version": 3
   },
   "file_extension": ".py",
   "mimetype": "text/x-python",
   "name": "python",
   "nbconvert_exporter": "python",
   "pygments_lexer": "ipython3",
   "version": "3.9.12"
  }
 },
 "nbformat": 4,
 "nbformat_minor": 5
}
