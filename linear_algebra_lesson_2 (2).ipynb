{
 "cells": [
  {
   "cell_type": "markdown",
   "id": "1cda01df",
   "metadata": {},
   "source": [
    "## Матрицы и матричные операции. Часть 1"
   ]
  },
  {
   "cell_type": "code",
   "execution_count": 3,
   "id": "6a946bc6",
   "metadata": {},
   "outputs": [],
   "source": [
    "import numpy as np"
   ]
  },
  {
   "cell_type": "markdown",
   "id": "ea13b9b0",
   "metadata": {},
   "source": [
    "### Установите, какие произведения матриц  𝐴𝐵  и  𝐵𝐴  определены, и найдите размерности полученных матриц:\n",
    "### а) 𝐴 — матрица 4×2, 𝐵 — матрица 4×2;\n",
    "### б) 𝐴 — матрица 2×5, 𝐵 — матрица 5×3;\n",
    "### в) 𝐴 — матрица 8×3, 𝐵 — матрица 3×8;\n",
    "### г) 𝐴 — квадратная матрица 4×4, 𝐵 — квадратная матрица 4×4."
   ]
  },
  {
   "cell_type": "markdown",
   "id": "a61d338d",
   "metadata": {},
   "source": [
    "определить оба произведения 𝐴⋅𝐵 и 𝐵⋅𝐴 можно только тогда, когда число столбцов 𝐴 совпадает с числом строк 𝐵, а число строк 𝐴 — с числом столбцов 𝐵 "
   ]
  },
  {
   "cell_type": "markdown",
   "id": "21bf0f02",
   "metadata": {},
   "source": [
    "а размерность полученных матриц определяется крайними значениями исходных матриц"
   ]
  },
  {
   "cell_type": "markdown",
   "id": "b6e8020e",
   "metadata": {},
   "source": [
    "а) Произведение не определено;\n",
    "б) Произведение определено, размерность 2х3;\n",
    "в) Произведение определено, размерность 8х8;\n",
    "г) Произведение определено, размерность 4х4."
   ]
  },
  {
   "cell_type": "markdown",
   "id": "fd6317ce",
   "metadata": {},
   "source": [
    "$$ Найдите~ сумму~ и~ произведение~ матриц~ A=\\begin{pmatrix}\n",
    "1 & -2\\\\ \n",
    "3 & 0\n",
    "\\end{pmatrix} и~ B=\\begin{pmatrix}\n",
    "4 & -1\\\\ \n",
    "0 & 5\n",
    "\\end{pmatrix}. $$"
   ]
  },
  {
   "cell_type": "code",
   "execution_count": 4,
   "id": "c1666a16",
   "metadata": {},
   "outputs": [],
   "source": [
    "A = np.array([[1, -2], [3, 0]])\n",
    "B = np.array([[4, -1], [0, 5]])"
   ]
  },
  {
   "cell_type": "markdown",
   "id": "8c34f2a7",
   "metadata": {},
   "source": [
    "сложение матриц "
   ]
  },
  {
   "cell_type": "code",
   "execution_count": 5,
   "id": "52a56633",
   "metadata": {},
   "outputs": [
    {
     "data": {
      "text/plain": [
       "array([[ 5, -3],\n",
       "       [ 3,  5]])"
      ]
     },
     "execution_count": 5,
     "metadata": {},
     "output_type": "execute_result"
    }
   ],
   "source": [
    "S = A + B\n",
    "S"
   ]
  },
  {
   "cell_type": "markdown",
   "id": "58ceed8e",
   "metadata": {},
   "source": [
    "умножение матриц"
   ]
  },
  {
   "cell_type": "code",
   "execution_count": 6,
   "id": "ca4213e2",
   "metadata": {},
   "outputs": [
    {
     "data": {
      "text/plain": [
       "array([[  4, -11],\n",
       "       [ 12,  -3]])"
      ]
     },
     "execution_count": 6,
     "metadata": {},
     "output_type": "execute_result"
    }
   ],
   "source": [
    "A.dot(B)"
   ]
  },
  {
   "cell_type": "markdown",
   "id": "8aeb8487",
   "metadata": {},
   "source": [
    "$$ Из~ закономерностей~ сложения~ и~ умножения~ матриц~ на~ число~ можно~ сделать~ вывод,~ что~ матрицы~ одного~ размера~ образуют~ линейное~ пространство.~ Вычислите~ линейную~ комбинацию~ 3A-2B+4C~ для~ матриц~ A=\\begin{pmatrix}\n",
    "1 & 7\\\\ \n",
    "3 & -6\n",
    "\\end{pmatrix}, B=\\begin{pmatrix}\n",
    "0 & 5\\\\ \n",
    "2 & -1\n",
    "\\end{pmatrix}, C=\\begin{pmatrix}\n",
    "2 & -4\\\\ \n",
    "1 & 1\n",
    "\\end{pmatrix}. $$"
   ]
  },
  {
   "cell_type": "markdown",
   "id": "2b4207f1",
   "metadata": {},
   "source": [
    "будем использовать умножение число на матрицу"
   ]
  },
  {
   "cell_type": "code",
   "execution_count": 7,
   "id": "88d580f5",
   "metadata": {},
   "outputs": [
    {
     "data": {
      "text/plain": [
       "array([[ 11,  -5],\n",
       "       [  9, -12]])"
      ]
     },
     "execution_count": 7,
     "metadata": {},
     "output_type": "execute_result"
    }
   ],
   "source": [
    "A = np.array([[1, 7], [3, -6]])\n",
    "B = np.array([[0, 5], [2, -1]])\n",
    "C = np.array([[2, -4], [1, 1]])\n",
    "3*A - 2*B + 4*C"
   ]
  },
  {
   "cell_type": "markdown",
   "id": "a5da2794",
   "metadata": {},
   "source": [
    "$$ Дана~ матрица~ A=\\begin{pmatrix}\n",
    "4 & 1\\\\ \n",
    "5 & -2\\\\ \n",
    "2 & 3\n",
    "\\end{pmatrix}.\n",
    "Вычислите~ AA^{T}~ и~ A^{T}A. $$"
   ]
  },
  {
   "cell_type": "markdown",
   "id": "df696e42",
   "metadata": {},
   "source": [
    "При транспонировании строки исходной матрицы становятся столбцами, а столбцы — строками"
   ]
  },
  {
   "cell_type": "code",
   "execution_count": 9,
   "id": "d6d76bc8",
   "metadata": {},
   "outputs": [
    {
     "data": {
      "text/plain": [
       "array([[17, 18, 11],\n",
       "       [18, 29,  4],\n",
       "       [11,  4, 13]])"
      ]
     },
     "execution_count": 9,
     "metadata": {},
     "output_type": "execute_result"
    }
   ],
   "source": [
    "A = np.array([[4, 1], [5, -2], [2, 3]])\n",
    "At = A.T\n",
    "A.dot(At)"
   ]
  },
  {
   "cell_type": "code",
   "execution_count": 10,
   "id": "b5154759",
   "metadata": {},
   "outputs": [
    {
     "data": {
      "text/plain": [
       "array([[45,  0],\n",
       "       [ 0, 14]])"
      ]
     },
     "execution_count": 10,
     "metadata": {},
     "output_type": "execute_result"
    }
   ],
   "source": [
    "At.dot(A)"
   ]
  },
  {
   "cell_type": "markdown",
   "id": "e62aab80",
   "metadata": {},
   "source": [
    "### Вычислите определитель:\n",
    "\n",
    "   a)\n",
    "\n",
    "$$\\begin{vmatrix}\n",
    "sinx & -cosx\\\\ \n",
    "cosx & sinx\n",
    "\\end{vmatrix};$$\n",
    "\n",
    "   б)\n",
    "    \n",
    "$$\\begin{vmatrix}\n",
    "4 & 2 & 3\\\\ \n",
    "0 & 5 & 1\\\\ \n",
    "0 & 0 & 9\n",
    "\\end{vmatrix};$$\n",
    "    \n",
    "   в)\n",
    "\n",
    "$$\\begin{vmatrix}\n",
    "1 & 2 & 3\\\\ \n",
    "4 & 5 & 6\\\\ \n",
    "7 & 8 & 9\n",
    "\\end{vmatrix}.$$\n"
   ]
  },
  {
   "cell_type": "markdown",
   "id": "0a6fa77d",
   "metadata": {},
   "source": [
    "a) матрица 2x2, перемножаем по диагонали"
   ]
  },
  {
   "cell_type": "markdown",
   "id": "455a2e90",
   "metadata": {},
   "source": [
    "$$\\begin{vmatrix}\n",
    "sinx & -cosx\\\\ \n",
    "cosx & sinx\n",
    "\\end{vmatrix} = sin^{2}x - (-cos^{2}x) = 1 $$"
   ]
  },
  {
   "cell_type": "markdown",
   "id": "55499fd4",
   "metadata": {},
   "source": [
    "б) "
   ]
  },
  {
   "cell_type": "code",
   "execution_count": 5,
   "id": "bb01bdc4",
   "metadata": {},
   "outputs": [
    {
     "name": "stdout",
     "output_type": "stream",
     "text": [
      "Матрица:\n",
      "[[4 2 3]\n",
      " [0 5 1]\n",
      " [0 0 9]]\n",
      "Определитель:\n",
      "180\n"
     ]
    }
   ],
   "source": [
    "B = np.array([[4, 2, 3], [0, 5, 1], [0, 0, 9]])\n",
    "print(f'Матрица:\\n{B}')\n",
    "print(f'Определитель:\\n{np.linalg.det(B):.0f}')"
   ]
  },
  {
   "cell_type": "markdown",
   "id": "19691ea2",
   "metadata": {},
   "source": [
    "в)"
   ]
  },
  {
   "cell_type": "code",
   "execution_count": 6,
   "id": "53d328a4",
   "metadata": {},
   "outputs": [
    {
     "name": "stdout",
     "output_type": "stream",
     "text": [
      "Матрица:\n",
      "[[1 2 3]\n",
      " [4 5 6]\n",
      " [7 8 9]]\n",
      "Определитель:\n",
      "0\n"
     ]
    }
   ],
   "source": [
    "C = np.array([[1, 2, 3], [4, 5, 6], [7, 8, 9]])\n",
    "print(f'Матрица:\\n{C}')\n",
    "print(f'Определитель:\\n{np.linalg.det(C):.0f}')"
   ]
  },
  {
   "cell_type": "markdown",
   "id": "84322f23",
   "metadata": {},
   "source": [
    "### Определитель матрицы $A$ равен $4$. Найдите:\n",
    "\n",
    "   а) $det(A^{2})$;\n",
    "    \n",
    "   б) $det(A^{T})$;\n",
    "    \n",
    "   в) $det(2A)$."
   ]
  },
  {
   "cell_type": "markdown",
   "id": "d5513da8",
   "metadata": {},
   "source": [
    "a) "
   ]
  },
  {
   "cell_type": "markdown",
   "id": "f365b6e8",
   "metadata": {},
   "source": [
    "$det(A^{2})$ = 16"
   ]
  },
  {
   "cell_type": "markdown",
   "id": "51d52eef",
   "metadata": {},
   "source": [
    "б) из свойства определителей, определитель транспонированной матрицы равен определителю исходной"
   ]
  },
  {
   "cell_type": "markdown",
   "id": "8b3905b6",
   "metadata": {},
   "source": [
    "$det(A^{T})$ = 4"
   ]
  },
  {
   "cell_type": "markdown",
   "id": "622699d9",
   "metadata": {},
   "source": [
    "в) в данном случае матрица А умножается на 2, тогда опредилитель данной матрицы умножается на 2 в степени колл-ва строк в матрице."
   ]
  },
  {
   "cell_type": "markdown",
   "id": "46aed874",
   "metadata": {},
   "source": [
    "$det(2A)$ = $det(A) * 2^{n}$"
   ]
  },
  {
   "cell_type": "markdown",
   "id": "96d87131",
   "metadata": {},
   "source": [
    "### Докажите, что матрица:\n",
    "\n",
    "$$\\begin{pmatrix}\n",
    "-2 & 7 & -3\\\\ \n",
    "4 & -14 & 6\\\\ \n",
    "-3 & 7 & 13\n",
    "\\end{pmatrix}$$\n",
    "   \n",
    "вырожденная."
   ]
  },
  {
   "cell_type": "markdown",
   "id": "eb971865",
   "metadata": {},
   "source": [
    "Матрица называется сингулярной или вырожденной, если её определитель равен нулю"
   ]
  },
  {
   "cell_type": "code",
   "execution_count": 7,
   "id": "cbdce9ec",
   "metadata": {},
   "outputs": [
    {
     "name": "stdout",
     "output_type": "stream",
     "text": [
      "Матрица:\n",
      "[[ -2   7  -3]\n",
      " [  4 -14   6]\n",
      " [ -3   7  13]]\n",
      "Определитель:\n",
      "0\n"
     ]
    }
   ],
   "source": [
    "D = np.array([[-2, 7, -3], [4, -14, 6], [-3, 7, 13]])\n",
    "print(f'Матрица:\\n{D}')\n",
    "print(f'Определитель:\\n{np.linalg.det(D):.0f}')"
   ]
  },
  {
   "cell_type": "markdown",
   "id": "894a11de",
   "metadata": {},
   "source": [
    "В данном случае определитель равен 0, это означает что матрица является вырожденной."
   ]
  },
  {
   "cell_type": "markdown",
   "id": "0974f706",
   "metadata": {},
   "source": [
    "### Найдите ранг матрицы:\n",
    "\n",
    "   а) $\\begin{pmatrix}\n",
    "1 & 2 & 3\\\\ \n",
    "1 & 1 & 1\\\\ \n",
    "2 & 3 & 4\n",
    "\\end{pmatrix};$\n",
    "\n",
    "   б) $\\begin{pmatrix}\n",
    "0 & 0 & 2 & 1\\\\ \n",
    "0 & 0 & 2 & 2\\\\ \n",
    "0 & 0 & 4 & 3\\\\ \n",
    "2 & 3 & 5 & 6\n",
    "\\end{pmatrix}.$"
   ]
  },
  {
   "cell_type": "markdown",
   "id": "6d7fd12e",
   "metadata": {},
   "source": [
    "a)"
   ]
  },
  {
   "cell_type": "code",
   "execution_count": 10,
   "id": "716e1bbf",
   "metadata": {},
   "outputs": [
    {
     "data": {
      "text/plain": [
       "2"
      ]
     },
     "execution_count": 10,
     "metadata": {},
     "output_type": "execute_result"
    }
   ],
   "source": [
    "A = np.matrix('1, 2, 3; 1, 1, 1; 2, 3, 4')\n",
    "np.linalg.matrix_rank(A)"
   ]
  }
 ],
 "metadata": {
  "kernelspec": {
   "display_name": "Python 3 (ipykernel)",
   "language": "python",
   "name": "python3"
  },
  "language_info": {
   "codemirror_mode": {
    "name": "ipython",
    "version": 3
   },
   "file_extension": ".py",
   "mimetype": "text/x-python",
   "name": "python",
   "nbconvert_exporter": "python",
   "pygments_lexer": "ipython3",
   "version": "3.9.12"
  }
 },
 "nbformat": 4,
 "nbformat_minor": 5
}
